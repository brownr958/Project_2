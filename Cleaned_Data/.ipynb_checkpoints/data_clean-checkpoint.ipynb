{
 "cells": [
  {
   "cell_type": "code",
   "execution_count": 1,
   "metadata": {},
   "outputs": [],
   "source": [
    "import pandas as pd"
   ]
  },
  {
   "cell_type": "code",
   "execution_count": 2,
   "metadata": {},
   "outputs": [],
   "source": [
    "# Frst base \n",
    "csv_path0 = \"Raw/1B Data.csv\"\n",
    "b1 = pd.read_csv(csv_path0)\n",
    "\n",
    "#second base \n",
    "csv_path1 = \"Raw/2B Data.csv\"\n",
    "b2 = pd.read_csv(csv_path1)\n",
    "\n",
    "#third base\n",
    "csv_path2 = \"Raw/3B Data.csv\"\n",
    "b3 = pd.read_csv(csv_path2)\n",
    "\n",
    "#catcher\n",
    "csv_path3 = \"Raw/C Data.csv\"\n",
    "cat = pd.read_csv(csv_path3)\n",
    "\n",
    "#designated hitter\n",
    "csv_path4 = \"Raw/DH Data.csv\"\n",
    "deh = pd.read_csv(csv_path4)\n",
    "\n",
    "#outfield\n",
    "csv_path5 = \"Raw/OF Data.csv\"\n",
    "outf = pd.read_csv(csv_path5)\n",
    "\n",
    "#short stop\n",
    "csv_path6 = \"Raw/SS Data.csv\"\n",
    "shorts = pd.read_csv(csv_path6)"
   ]
  },
  {
   "cell_type": "code",
   "execution_count": 3,
   "metadata": {
    "scrolled": true
   },
   "outputs": [],
   "source": [
    "\n",
    "nb1 = b1.replace({'- - -': \"2+\"})\n"
   ]
  },
  {
   "cell_type": "code",
   "execution_count": 4,
   "metadata": {},
   "outputs": [],
   "source": [
    "nb2 = b2.replace({'- - -': '2+'})"
   ]
  },
  {
   "cell_type": "code",
   "execution_count": 5,
   "metadata": {
    "scrolled": true
   },
   "outputs": [],
   "source": [
    "nb3 = b3.replace({'- - -': '2+'})"
   ]
  },
  {
   "cell_type": "code",
   "execution_count": 6,
   "metadata": {},
   "outputs": [],
   "source": [
    "ncat = cat.replace({'- - -': '2+'})"
   ]
  },
  {
   "cell_type": "code",
   "execution_count": 7,
   "metadata": {},
   "outputs": [],
   "source": [
    "ndeh = deh.replace({'- - -': '2+'})"
   ]
  },
  {
   "cell_type": "code",
   "execution_count": 8,
   "metadata": {},
   "outputs": [],
   "source": [
    "noutf = outf.replace({'- - -': \"2+\"})"
   ]
  },
  {
   "cell_type": "code",
   "execution_count": 9,
   "metadata": {
    "scrolled": false
   },
   "outputs": [],
   "source": [
    "nshorts = shorts.replace({'- - -': '2+'})"
   ]
  },
  {
   "cell_type": "code",
   "execution_count": 10,
   "metadata": {},
   "outputs": [],
   "source": [
    "nb1.to_csv(r\"Cleaned\\b1.csv\", index=False)\n",
    "nb2.to_csv(r\"Cleaned\\b2.csv\", index=False)\n",
    "nb3.to_csv(r\"Cleaned\\b3.csv\", index=False)\n",
    "ncat.to_csv(r\"Cleaned\\cat.csv\", index=False)\n",
    "ndeh.to_csv(r\"Cleaned\\deh.csv\", index=False)\n",
    "noutf.to_csv(r\"Cleaned\\outf.csv\", index=False)\n",
    "nshorts.to_csv(r\"Cleaned\\shorts.csv\", index=False)"
   ]
  }
 ],
 "metadata": {
  "kernelspec": {
   "display_name": "Python 3",
   "language": "python",
   "name": "python3"
  },
  "language_info": {
   "codemirror_mode": {
    "name": "ipython",
    "version": 3
   },
   "file_extension": ".py",
   "mimetype": "text/x-python",
   "name": "python",
   "nbconvert_exporter": "python",
   "pygments_lexer": "ipython3",
   "version": "3.6.10"
  }
 },
 "nbformat": 4,
 "nbformat_minor": 4
}
